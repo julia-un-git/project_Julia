{
 "cells": [
  {
   "cell_type": "code",
   "execution_count": 1,
   "id": "51859a41-7ad3-47ec-8aba-83bb190e2144",
   "metadata": {},
   "outputs": [],
   "source": [
    "import numpy as np\n",
    "import pandas as pd\n",
    "import seaborn as sns\n",
    "import matplotlib.pyplot as plt"
   ]
  },
  {
   "cell_type": "code",
   "execution_count": 9,
   "id": "e276d87f-ca1f-445f-8ce3-31092804fdb4",
   "metadata": {},
   "outputs": [
    {
     "name": "stdout",
     "output_type": "stream",
     "text": [
      "Requirement already satisfied: nltk in c:\\python\\ve\\lib\\site-packages (3.8.1)\n",
      "Requirement already satisfied: click in c:\\python\\ve\\lib\\site-packages (from nltk) (8.1.7)\n",
      "Requirement already satisfied: joblib in c:\\python\\ve\\lib\\site-packages (from nltk) (1.3.2)\n",
      "Requirement already satisfied: regex>=2021.8.3 in c:\\python\\ve\\lib\\site-packages (from nltk) (2023.10.3)\n",
      "Requirement already satisfied: tqdm in c:\\python\\ve\\lib\\site-packages (from nltk) (4.66.1)\n",
      "Requirement already satisfied: colorama in c:\\python\\ve\\lib\\site-packages (from click->nltk) (0.4.6)\n"
     ]
    },
    {
     "name": "stderr",
     "output_type": "stream",
     "text": [
      "\n",
      "[notice] A new release of pip is available: 23.2.1 -> 23.3.1\n",
      "[notice] To update, run: python.exe -m pip install --upgrade pip\n"
     ]
    }
   ],
   "source": [
    "#библиотека для обработки естественного языка:\n",
    "#!pip install nltk"
   ]
  },
  {
   "cell_type": "code",
   "execution_count": 10,
   "id": "4c66afda-efe1-4c5d-ae2e-87b842527123",
   "metadata": {},
   "outputs": [],
   "source": [
    "import nltk\n",
    "from nltk.sentiment import SentimentIntensityAnalyzer"
   ]
  },
  {
   "cell_type": "code",
   "execution_count": 11,
   "id": "efe5dcc2-7136-4278-b28b-f4cbdea24e76",
   "metadata": {},
   "outputs": [
    {
     "name": "stderr",
     "output_type": "stream",
     "text": [
      "[nltk_data] Downloading package vader_lexicon to\n",
      "[nltk_data]     C:\\Users\\ort-y\\AppData\\Roaming\\nltk_data...\n",
      "[nltk_data]   Package vader_lexicon is already up-to-date!\n"
     ]
    },
    {
     "data": {
      "text/plain": [
       "True"
      ]
     },
     "execution_count": 11,
     "metadata": {},
     "output_type": "execute_result"
    }
   ],
   "source": [
    "#В NLTK уже есть встроенный предварительно обученный анализатор настроений под названием VADER ( Valence Aware Dictionary и Sentiment Reasoner).\n",
    "#Однако VADER лучше всего подходит для языка, используемого в социальных сетях, например, для коротких предложений со сленгом и сокращениями.\n",
    "#Он менее точен при оценке длинных, структурированных предложений, но часто является хорошей отправной точкой.\n",
    "#Чтобы использовать VADER, сначала создайте экземпляр nltk.sentiment.SentimentIntensityAnalyzer, \n",
    "#а затем используйте его .polarity_scores()для необработанной строки:\n",
    "#VADER lexicon: Это предварительно подготовленный лексикон (словарь слов и их оценок настроений), который используется для анализа настроений. Он предоставляется библиотекой nltk.\n",
    "nltk.download('vader_lexicon')"
   ]
  },
  {
   "cell_type": "code",
   "execution_count": null,
   "id": "6bd21fe0-eb4e-4b8d-82b4-7d354e85957e",
   "metadata": {},
   "outputs": [],
   "source": [
    "sia = SentimentIntensityAnalyzer()"
   ]
  },
  {
   "cell_type": "code",
   "execution_count": 311,
   "id": "91fd068d-8811-42f5-9a15-d1a5256e26c4",
   "metadata": {},
   "outputs": [],
   "source": [
    "df = pd.read_csv('clear_data.csv')"
   ]
  },
  {
   "cell_type": "code",
   "execution_count": 299,
   "id": "703c990b-4c5f-4ab0-85b1-ddd36476aa3a",
   "metadata": {
    "scrolled": true
   },
   "outputs": [
    {
     "data": {
      "text/plain": [
       "product_id              object\n",
       "product_name            object\n",
       "discounted_price       float64\n",
       "actual_price           float64\n",
       "discount_percentage    float64\n",
       "rating                 float64\n",
       "rating_count             int64\n",
       "category_main           object\n",
       "category_sub            object\n",
       "type_product            object\n",
       "date                    object\n",
       "review_title            object\n",
       "review_content          object\n",
       "user_id                 object\n",
       "dtype: object"
      ]
     },
     "execution_count": 299,
     "metadata": {},
     "output_type": "execute_result"
    }
   ],
   "source": [
    "df.dtypes"
   ]
  },
  {
   "cell_type": "code",
   "execution_count": 313,
   "id": "52d3aaf6-2fa6-4839-bfd2-b1f51bb443fd",
   "metadata": {},
   "outputs": [],
   "source": [
    "df['sentiment'] = df['review_title'].apply(lambda x: sia.polarity_scores(x)['compound'])\n",
    "df['sentiment2'] = df['review_content'].apply(lambda x: sia.polarity_scores(x)['compound'])"
   ]
  },
  {
   "cell_type": "code",
   "execution_count": 347,
   "id": "d2cdd485-5923-48ef-b0a5-2014f43b6142",
   "metadata": {},
   "outputs": [
    {
     "data": {
      "text/html": [
       "<div>\n",
       "<style scoped>\n",
       "    .dataframe tbody tr th:only-of-type {\n",
       "        vertical-align: middle;\n",
       "    }\n",
       "\n",
       "    .dataframe tbody tr th {\n",
       "        vertical-align: top;\n",
       "    }\n",
       "\n",
       "    .dataframe thead th {\n",
       "        text-align: right;\n",
       "    }\n",
       "</style>\n",
       "<table border=\"1\" class=\"dataframe\">\n",
       "  <thead>\n",
       "    <tr style=\"text-align: right;\">\n",
       "      <th></th>\n",
       "      <th>sentiment</th>\n",
       "      <th>sentiment2</th>\n",
       "    </tr>\n",
       "  </thead>\n",
       "  <tbody>\n",
       "    <tr>\n",
       "      <th>count</th>\n",
       "      <td>1465.000000</td>\n",
       "      <td>1465.000000</td>\n",
       "    </tr>\n",
       "    <tr>\n",
       "      <th>mean</th>\n",
       "      <td>0.516652</td>\n",
       "      <td>0.819558</td>\n",
       "    </tr>\n",
       "    <tr>\n",
       "      <th>std</th>\n",
       "      <td>0.392131</td>\n",
       "      <td>0.368313</td>\n",
       "    </tr>\n",
       "    <tr>\n",
       "      <th>min</th>\n",
       "      <td>-0.879800</td>\n",
       "      <td>-0.982100</td>\n",
       "    </tr>\n",
       "    <tr>\n",
       "      <th>25%</th>\n",
       "      <td>0.340000</td>\n",
       "      <td>0.868800</td>\n",
       "    </tr>\n",
       "    <tr>\n",
       "      <th>50%</th>\n",
       "      <td>0.647800</td>\n",
       "      <td>0.961300</td>\n",
       "    </tr>\n",
       "    <tr>\n",
       "      <th>75%</th>\n",
       "      <td>0.817600</td>\n",
       "      <td>0.988600</td>\n",
       "    </tr>\n",
       "    <tr>\n",
       "      <th>max</th>\n",
       "      <td>0.982800</td>\n",
       "      <td>0.999900</td>\n",
       "    </tr>\n",
       "  </tbody>\n",
       "</table>\n",
       "</div>"
      ],
      "text/plain": [
       "         sentiment   sentiment2\n",
       "count  1465.000000  1465.000000\n",
       "mean      0.516652     0.819558\n",
       "std       0.392131     0.368313\n",
       "min      -0.879800    -0.982100\n",
       "25%       0.340000     0.868800\n",
       "50%       0.647800     0.961300\n",
       "75%       0.817600     0.988600\n",
       "max       0.982800     0.999900"
      ]
     },
     "execution_count": 347,
     "metadata": {},
     "output_type": "execute_result"
    }
   ],
   "source": [
    "df[['sentiment','sentiment2']].describe()"
   ]
  },
  {
   "cell_type": "markdown",
   "id": "e4c84514-6e56-49c1-9969-7149211ff81c",
   "metadata": {},
   "source": [
    "Оценка настроений представлена в виде компаунд ('compound')-показателя, который может принимать значения от -1 (отрицательное настроение) до 1 (положительное настроение). Значения близкие к 0 считаются нейтральными."
   ]
  },
  {
   "cell_type": "code",
   "execution_count": 371,
   "id": "0105f2b1-52f0-4f6f-96cb-35b16eb3dabf",
   "metadata": {},
   "outputs": [
    {
     "data": {
      "text/plain": [
       "<Axes: >"
      ]
     },
     "execution_count": 371,
     "metadata": {},
     "output_type": "execute_result"
    },
    {
     "data": {
      "image/png": "[encoded data removed]",
      "text/plain": [
       "<Figure size 640x480 with 1 Axes>"
      ]
     },
     "metadata": {},
     "output_type": "display_data"
    }
   ],
   "source": [
    "df['sentiment'].hist(bins = 100)"
   ]
  },
  {
   "cell_type": "code",
   "execution_count": 331,
   "id": "94492c2a-b3ea-44af-b213-b7bc3ee279d9",
   "metadata": {},
   "outputs": [],
   "source": [
    "def sentiment_label (score):\n",
    "    if score>=0.05:\n",
    "        return 'Positive'\n",
    "    elif score <=0.05:\n",
    "        return 'Negative'\n",
    "    else:\n",
    "        return 'Neutral"
   ]
  },
  {
   "cell_type": "code",
   "execution_count": 356,
   "id": "a4f8a387-a03a-4e35-8bd8-e865688f9b8d",
   "metadata": {},
   "outputs": [],
   "source": [
    "sentiment_labels = df['sentiment'].apply(sentiment_label)"
   ]
  },
  {
   "cell_type": "code",
   "execution_count": 357,
   "id": "caba261d-819d-44b1-9b48-c3e6824a925d",
   "metadata": {},
   "outputs": [],
   "source": [
    "df['sentiment_label'] = sentiment_labels"
   ]
  },
  {
   "cell_type": "code",
   "execution_count": 358,
   "id": "8eb7d630-22b9-4a0d-a336-9ed92f24e7e1",
   "metadata": {
    "scrolled": true
   },
   "outputs": [
    {
     "data": {
      "text/html": [
       "<div>\n",
       "<style scoped>\n",
       "    .dataframe tbody tr th:only-of-type {\n",
       "        vertical-align: middle;\n",
       "    }\n",
       "\n",
       "    .dataframe tbody tr th {\n",
       "        vertical-align: top;\n",
       "    }\n",
       "\n",
       "    .dataframe thead th {\n",
       "        text-align: right;\n",
       "    }\n",
       "</style>\n",
       "<table border=\"1\" class=\"dataframe\">\n",
       "  <thead>\n",
       "    <tr style=\"text-align: right;\">\n",
       "      <th></th>\n",
       "      <th>product_id</th>\n",
       "      <th>review_title</th>\n",
       "      <th>review_content</th>\n",
       "      <th>rating</th>\n",
       "      <th>sentiment</th>\n",
       "      <th>sentiment2</th>\n",
       "      <th>sentiment_label</th>\n",
       "    </tr>\n",
       "  </thead>\n",
       "  <tbody>\n",
       "    <tr>\n",
       "      <th>1462</th>\n",
       "      <td>B009P2LIL4</td>\n",
       "      <td>very good,Work but front melt after 2 month,Go...</td>\n",
       "      <td>plastic but cool body ,u have to find sturdy s...</td>\n",
       "      <td>3.6</td>\n",
       "      <td>0.0000</td>\n",
       "      <td>0.9698</td>\n",
       "      <td>Neutral</td>\n",
       "    </tr>\n",
       "    <tr>\n",
       "      <th>1463</th>\n",
       "      <td>B00J5DYCCA</td>\n",
       "      <td>Fan Speed is slow,Good quality,Good product,go...</td>\n",
       "      <td>I have installed this in my kitchen working fi...</td>\n",
       "      <td>4.0</td>\n",
       "      <td>0.3182</td>\n",
       "      <td>-0.2960</td>\n",
       "      <td>Positive</td>\n",
       "    </tr>\n",
       "    <tr>\n",
       "      <th>1464</th>\n",
       "      <td>B01486F4G6</td>\n",
       "      <td>Works perfect,Ok good product,Nice Product. Re...</td>\n",
       "      <td>It does it job perfectly..only issue is temp c...</td>\n",
       "      <td>4.3</td>\n",
       "      <td>0.7615</td>\n",
       "      <td>0.9915</td>\n",
       "      <td>Positive</td>\n",
       "    </tr>\n",
       "  </tbody>\n",
       "</table>\n",
       "</div>"
      ],
      "text/plain": [
       "      product_id                                       review_title  \\\n",
       "1462  B009P2LIL4  very good,Work but front melt after 2 month,Go...   \n",
       "1463  B00J5DYCCA  Fan Speed is slow,Good quality,Good product,go...   \n",
       "1464  B01486F4G6  Works perfect,Ok good product,Nice Product. Re...   \n",
       "\n",
       "                                         review_content  rating  sentiment  \\\n",
       "1462  plastic but cool body ,u have to find sturdy s...     3.6     0.0000   \n",
       "1463  I have installed this in my kitchen working fi...     4.0     0.3182   \n",
       "1464  It does it job perfectly..only issue is temp c...     4.3     0.7615   \n",
       "\n",
       "      sentiment2 sentiment_label  \n",
       "1462      0.9698         Neutral  \n",
       "1463     -0.2960        Positive  \n",
       "1464      0.9915        Positive  "
      ]
     },
     "execution_count": 358,
     "metadata": {},
     "output_type": "execute_result"
    }
   ],
   "source": [
    "df[['product_id','review_title','review_content', 'rating','sentiment', 'sentiment2', 'sentiment_label']].tail(3)"
   ]
  },
  {
   "cell_type": "code",
   "execution_count": 368,
   "id": "f3e5d909-77eb-49a7-a021-a86e6979de76",
   "metadata": {},
   "outputs": [
    {
     "data": {
      "text/plain": [
       "<Figure size 800x600 with 0 Axes>"
      ]
     },
     "metadata": {},
     "output_type": "display_data"
    },
    {
     "data": {
      "image/png": "[encoded data removed]",
      "text/plain": [
       "<Figure size 640x480 with 1 Axes>"
      ]
     },
     "metadata": {},
     "output_type": "display_data"
    }
   ],
   "source": [
    "#существует ли какая-либо корреляция между настроениями и рейтинговыми баллами:\n",
    "fig = plt.figure (figsize = (8,6))\n",
    "df.groupby(['rating','sentiment_label']).size().unstack().plot(kind = 'bar', stacked = True)\n",
    "plt.title('Sentiment Label vs Rating')\n",
    "plt.xlabel('Rating')\n",
    "plt.ylabel('Count')\n",
    "plt.savefig('Sentiment Label vs Rating.png')\n",
    "plt.show()"
   ]
  },
  {
   "cell_type": "code",
   "execution_count": 361,
   "id": "812bf48a-aa96-4cd3-bf00-824fc2b92d51",
   "metadata": {},
   "outputs": [
    {
     "data": {
      "text/plain": [
       "sentiment_label\n",
       "Positive    1231\n",
       "Negative     119\n",
       "Neutral      115\n",
       "Name: count, dtype: int64"
      ]
     },
     "execution_count": 361,
     "metadata": {},
     "output_type": "execute_result"
    }
   ],
   "source": [
    "sentiment_counts = df['sentiment_label'].value_counts()\n",
    "sentiment_counts"
   ]
  },
  {
   "cell_type": "code",
   "execution_count": 369,
   "id": "b69c69d4-9af1-4bda-bd86-17895e056428",
   "metadata": {},
   "outputs": [
    {
     "data": {
      "image/png": "[encoded data removed]",
      "text/plain": [
       "<Figure size 640x480 with 1 Axes>"
      ]
     },
     "metadata": {},
     "output_type": "display_data"
    }
   ],
   "source": [
    "plt.pie(sentiment_counts, labels = sentiment_counts.index, autopct = '%1.1f%%')\n",
    "plt.title ('Sentiment Distribution')\n",
    "plt.savefig('Sentiment Distribution.png')\n",
    "plt.show()"
   ]
  },
  {
   "cell_type": "code",
   "execution_count": 372,
   "id": "0f0dbe76-2c56-4ea1-83e9-9a31c944d6df",
   "metadata": {},
   "outputs": [],
   "source": [
    "df.to_csv ('sentimental_analysis.csv',index= False)"
   ]
  },
  {
   "cell_type": "code",
   "execution_count": 373,
   "id": "86e6e86a-5bae-47b9-8a1b-668619ea2cae",
   "metadata": {},
   "outputs": [
    {
     "data": {
      "text/html": [
       "<div>\n",
       "<style scoped>\n",
       "    .dataframe tbody tr th:only-of-type {\n",
       "        vertical-align: middle;\n",
       "    }\n",
       "\n",
       "    .dataframe tbody tr th {\n",
       "        vertical-align: top;\n",
       "    }\n",
       "\n",
       "    .dataframe thead th {\n",
       "        text-align: right;\n",
       "    }\n",
       "</style>\n",
       "<table border=\"1\" class=\"dataframe\">\n",
       "  <thead>\n",
       "    <tr style=\"text-align: right;\">\n",
       "      <th></th>\n",
       "      <th>product_name</th>\n",
       "      <th>rating</th>\n",
       "      <th>actual_price</th>\n",
       "      <th>discount_percentage</th>\n",
       "      <th>category_main</th>\n",
       "      <th>type_product</th>\n",
       "      <th>sentiment_label</th>\n",
       "    </tr>\n",
       "  </thead>\n",
       "  <tbody>\n",
       "    <tr>\n",
       "      <th>545</th>\n",
       "      <td>SHREENOVA ID116 Plus Bluetooth Fitness Smart W...</td>\n",
       "      <td>2.8</td>\n",
       "      <td>1999.0</td>\n",
       "      <td>86.0</td>\n",
       "      <td>Electronics</td>\n",
       "      <td>SmartWatches</td>\n",
       "      <td>Positive</td>\n",
       "    </tr>\n",
       "    <tr>\n",
       "      <th>1243</th>\n",
       "      <td>Personal Size Blender, Portable Blender, Batte...</td>\n",
       "      <td>2.3</td>\n",
       "      <td>1499.0</td>\n",
       "      <td>55.0</td>\n",
       "      <td>Home&amp;Kitchen</td>\n",
       "      <td>HandBlenders</td>\n",
       "      <td>Positive</td>\n",
       "    </tr>\n",
       "    <tr>\n",
       "      <th>1286</th>\n",
       "      <td>MR. BRAND Portable USB Juicer Electric USB Jui...</td>\n",
       "      <td>2.8</td>\n",
       "      <td>2199.0</td>\n",
       "      <td>77.0</td>\n",
       "      <td>Home&amp;Kitchen</td>\n",
       "      <td>JuicerMixerGrinders</td>\n",
       "      <td>Positive</td>\n",
       "    </tr>\n",
       "    <tr>\n",
       "      <th>1309</th>\n",
       "      <td>Khaitan ORFin Fan heater for Home and kitchen-...</td>\n",
       "      <td>2.0</td>\n",
       "      <td>2495.0</td>\n",
       "      <td>48.0</td>\n",
       "      <td>Home&amp;Kitchen</td>\n",
       "      <td>FanHeaters</td>\n",
       "      <td>Negative</td>\n",
       "    </tr>\n",
       "    <tr>\n",
       "      <th>1356</th>\n",
       "      <td>Green Tales Heat Seal Mini Food Sealer-Impulse...</td>\n",
       "      <td>2.6</td>\n",
       "      <td>300.0</td>\n",
       "      <td>46.0</td>\n",
       "      <td>Home&amp;Kitchen</td>\n",
       "      <td>VacuumSealers</td>\n",
       "      <td>Negative</td>\n",
       "    </tr>\n",
       "    <tr>\n",
       "      <th>1449</th>\n",
       "      <td>IONIX Tap filter Multilayer | Activated Carbon...</td>\n",
       "      <td>2.9</td>\n",
       "      <td>699.0</td>\n",
       "      <td>72.0</td>\n",
       "      <td>Home&amp;Kitchen</td>\n",
       "      <td>WaterPurifierAccessories</td>\n",
       "      <td>Negative</td>\n",
       "    </tr>\n",
       "  </tbody>\n",
       "</table>\n",
       "</div>"
      ],
      "text/plain": [
       "                                           product_name  rating  actual_price  \\\n",
       "545   SHREENOVA ID116 Plus Bluetooth Fitness Smart W...     2.8        1999.0   \n",
       "1243  Personal Size Blender, Portable Blender, Batte...     2.3        1499.0   \n",
       "1286  MR. BRAND Portable USB Juicer Electric USB Jui...     2.8        2199.0   \n",
       "1309  Khaitan ORFin Fan heater for Home and kitchen-...     2.0        2495.0   \n",
       "1356  Green Tales Heat Seal Mini Food Sealer-Impulse...     2.6         300.0   \n",
       "1449  IONIX Tap filter Multilayer | Activated Carbon...     2.9         699.0   \n",
       "\n",
       "      discount_percentage category_main              type_product  \\\n",
       "545                  86.0   Electronics              SmartWatches   \n",
       "1243                 55.0  Home&Kitchen              HandBlenders   \n",
       "1286                 77.0  Home&Kitchen       JuicerMixerGrinders   \n",
       "1309                 48.0  Home&Kitchen                FanHeaters   \n",
       "1356                 46.0  Home&Kitchen             VacuumSealers   \n",
       "1449                 72.0  Home&Kitchen  WaterPurifierAccessories   \n",
       "\n",
       "     sentiment_label  \n",
       "545         Positive  \n",
       "1243        Positive  \n",
       "1286        Positive  \n",
       "1309        Negative  \n",
       "1356        Negative  \n",
       "1449        Negative  "
      ]
     },
     "execution_count": 373,
     "metadata": {},
     "output_type": "execute_result"
    }
   ],
   "source": [
    "df[(df['rating']<3)][['product_name','rating', 'actual_price','discount_percentage','category_main', 'type_product','sentiment_label' ]]"
   ]
  },
  {
   "cell_type": "code",
   "execution_count": 377,
   "id": "dc4c2036-4127-4d48-b134-0bcb820dd713",
   "metadata": {},
   "outputs": [
    {
     "data": {
      "text/html": [
       "<div>\n",
       "<style scoped>\n",
       "    .dataframe tbody tr th:only-of-type {\n",
       "        vertical-align: middle;\n",
       "    }\n",
       "\n",
       "    .dataframe tbody tr th {\n",
       "        vertical-align: top;\n",
       "    }\n",
       "\n",
       "    .dataframe thead th {\n",
       "        text-align: right;\n",
       "    }\n",
       "</style>\n",
       "<table border=\"1\" class=\"dataframe\">\n",
       "  <thead>\n",
       "    <tr style=\"text-align: right;\">\n",
       "      <th></th>\n",
       "      <th>product_id</th>\n",
       "      <th>product_name</th>\n",
       "      <th>discounted_price</th>\n",
       "      <th>actual_price</th>\n",
       "      <th>discount_percentage</th>\n",
       "      <th>rating</th>\n",
       "      <th>rating_count</th>\n",
       "      <th>category_main</th>\n",
       "      <th>category_sub</th>\n",
       "      <th>type_product</th>\n",
       "      <th>date</th>\n",
       "      <th>review_title</th>\n",
       "      <th>review_content</th>\n",
       "      <th>user_id</th>\n",
       "      <th>sentiment</th>\n",
       "      <th>sentiment2</th>\n",
       "      <th>Sentiment_label</th>\n",
       "      <th>sentiment_label</th>\n",
       "      <th>sentiment_label2</th>\n",
       "    </tr>\n",
       "  </thead>\n",
       "  <tbody>\n",
       "    <tr>\n",
       "      <th>334</th>\n",
       "      <td>B0BF57RN3K</td>\n",
       "      <td>Fire-Boltt Ninja Call Pro Plus 1.83\" Smart Wat...</td>\n",
       "      <td>1799.0</td>\n",
       "      <td>19999.0</td>\n",
       "      <td>91.0</td>\n",
       "      <td>4.2</td>\n",
       "      <td>13937</td>\n",
       "      <td>Electronics</td>\n",
       "      <td>WearableTechnology</td>\n",
       "      <td>SmartWatches</td>\n",
       "      <td>2023-02-04</td>\n",
       "      <td>Worth the money,Good smart watch,the screen do...</td>\n",
       "      <td>I liked it, worth the money, light weight and ...</td>\n",
       "      <td>AEC6UDCEAUIBIFHGQDQ4KR67GC4A,AHRKSUOZXKKDERRY3...</td>\n",
       "      <td>0.8442</td>\n",
       "      <td>0.9952</td>\n",
       "      <td>Positive</td>\n",
       "      <td>Positive</td>\n",
       "      <td>Positive</td>\n",
       "    </tr>\n",
       "    <tr>\n",
       "      <th>364</th>\n",
       "      <td>B0BF54972T</td>\n",
       "      <td>Fire-Boltt Ninja Call Pro Plus 1.83\" Smart Wat...</td>\n",
       "      <td>1799.0</td>\n",
       "      <td>19999.0</td>\n",
       "      <td>91.0</td>\n",
       "      <td>4.2</td>\n",
       "      <td>13937</td>\n",
       "      <td>Electronics</td>\n",
       "      <td>WearableTechnology</td>\n",
       "      <td>SmartWatches</td>\n",
       "      <td>2023-02-07</td>\n",
       "      <td>Worth the money,Good smart watch,the screen do...</td>\n",
       "      <td>I liked it, worth the money, light weight and ...</td>\n",
       "      <td>AEC6UDCEAUIBIFHGQDQ4KR67GC4A,AHRKSUOZXKKDERRY3...</td>\n",
       "      <td>0.8442</td>\n",
       "      <td>0.9952</td>\n",
       "      <td>Positive</td>\n",
       "      <td>Positive</td>\n",
       "      <td>Positive</td>\n",
       "    </tr>\n",
       "    <tr>\n",
       "      <th>368</th>\n",
       "      <td>B0BF563HB4</td>\n",
       "      <td>Fire-Boltt Ninja Call Pro Plus 1.83\" Smart Wat...</td>\n",
       "      <td>1799.0</td>\n",
       "      <td>19999.0</td>\n",
       "      <td>91.0</td>\n",
       "      <td>4.2</td>\n",
       "      <td>13937</td>\n",
       "      <td>Electronics</td>\n",
       "      <td>WearableTechnology</td>\n",
       "      <td>SmartWatches</td>\n",
       "      <td>2023-02-07</td>\n",
       "      <td>Worth the money,Good smart watch,the screen do...</td>\n",
       "      <td>I liked it, worth the money, light weight and ...</td>\n",
       "      <td>AEC6UDCEAUIBIFHGQDQ4KR67GC4A,AHRKSUOZXKKDERRY3...</td>\n",
       "      <td>0.8442</td>\n",
       "      <td>0.9952</td>\n",
       "      <td>Positive</td>\n",
       "      <td>Positive</td>\n",
       "      <td>Positive</td>\n",
       "    </tr>\n",
       "    <tr>\n",
       "      <th>372</th>\n",
       "      <td>B0BF4YBLPX</td>\n",
       "      <td>Fire-Boltt Ninja Call Pro Plus 1.83\" Smart Wat...</td>\n",
       "      <td>1799.0</td>\n",
       "      <td>19999.0</td>\n",
       "      <td>91.0</td>\n",
       "      <td>4.2</td>\n",
       "      <td>13937</td>\n",
       "      <td>Electronics</td>\n",
       "      <td>WearableTechnology</td>\n",
       "      <td>SmartWatches</td>\n",
       "      <td>2023-02-08</td>\n",
       "      <td>Worth the money,Good smart watch,the screen do...</td>\n",
       "      <td>I liked it, worth the money, light weight and ...</td>\n",
       "      <td>AEC6UDCEAUIBIFHGQDQ4KR67GC4A,AHRKSUOZXKKDERRY3...</td>\n",
       "      <td>0.8442</td>\n",
       "      <td>0.9952</td>\n",
       "      <td>Positive</td>\n",
       "      <td>Positive</td>\n",
       "      <td>Positive</td>\n",
       "    </tr>\n",
       "    <tr>\n",
       "      <th>380</th>\n",
       "      <td>B0BF54LXW6</td>\n",
       "      <td>Fire-Boltt Ninja Call Pro Plus 1.83\" Smart Wat...</td>\n",
       "      <td>1799.0</td>\n",
       "      <td>19999.0</td>\n",
       "      <td>91.0</td>\n",
       "      <td>4.2</td>\n",
       "      <td>13937</td>\n",
       "      <td>Electronics</td>\n",
       "      <td>WearableTechnology</td>\n",
       "      <td>SmartWatches</td>\n",
       "      <td>2023-02-09</td>\n",
       "      <td>Worth the money,Good smart watch,the screen do...</td>\n",
       "      <td>I liked it, worth the money, light weight and ...</td>\n",
       "      <td>AEC6UDCEAUIBIFHGQDQ4KR67GC4A,AHRKSUOZXKKDERRY3...</td>\n",
       "      <td>0.8442</td>\n",
       "      <td>0.9952</td>\n",
       "      <td>Positive</td>\n",
       "      <td>Positive</td>\n",
       "      <td>Positive</td>\n",
       "    </tr>\n",
       "    <tr>\n",
       "      <th>695</th>\n",
       "      <td>B097C564GC</td>\n",
       "      <td>rts [2 Pack] Mini USB C Type C Adapter Plug, T...</td>\n",
       "      <td>294.0</td>\n",
       "      <td>4999.0</td>\n",
       "      <td>94.0</td>\n",
       "      <td>4.3</td>\n",
       "      <td>4426</td>\n",
       "      <td>Computers&amp;Accessories</td>\n",
       "      <td>Accessories&amp;Peripherals</td>\n",
       "      <td>USBtoUSBAdapters</td>\n",
       "      <td>2023-03-13</td>\n",
       "      <td>Tiny helping hand,Good product,As a whole good...</td>\n",
       "      <td>This eliminates the need to buy chargers for t...</td>\n",
       "      <td>AGO5SRT3ESLNL5WTRQFD5BSIYPQA,AGGNODUMRADB3PQQT...</td>\n",
       "      <td>0.7845</td>\n",
       "      <td>0.1416</td>\n",
       "      <td>Positive</td>\n",
       "      <td>Positive</td>\n",
       "      <td>Positive</td>\n",
       "    </tr>\n",
       "  </tbody>\n",
       "</table>\n",
       "</div>"
      ],
      "text/plain": [
       "     product_id                                       product_name  \\\n",
       "334  B0BF57RN3K  Fire-Boltt Ninja Call Pro Plus 1.83\" Smart Wat...   \n",
       "364  B0BF54972T  Fire-Boltt Ninja Call Pro Plus 1.83\" Smart Wat...   \n",
       "368  B0BF563HB4  Fire-Boltt Ninja Call Pro Plus 1.83\" Smart Wat...   \n",
       "372  B0BF4YBLPX  Fire-Boltt Ninja Call Pro Plus 1.83\" Smart Wat...   \n",
       "380  B0BF54LXW6  Fire-Boltt Ninja Call Pro Plus 1.83\" Smart Wat...   \n",
       "695  B097C564GC  rts [2 Pack] Mini USB C Type C Adapter Plug, T...   \n",
       "\n",
       "     discounted_price  actual_price  discount_percentage  rating  \\\n",
       "334            1799.0       19999.0                 91.0     4.2   \n",
       "364            1799.0       19999.0                 91.0     4.2   \n",
       "368            1799.0       19999.0                 91.0     4.2   \n",
       "372            1799.0       19999.0                 91.0     4.2   \n",
       "380            1799.0       19999.0                 91.0     4.2   \n",
       "695             294.0        4999.0                 94.0     4.3   \n",
       "\n",
       "     rating_count          category_main             category_sub  \\\n",
       "334         13937            Electronics       WearableTechnology   \n",
       "364         13937            Electronics       WearableTechnology   \n",
       "368         13937            Electronics       WearableTechnology   \n",
       "372         13937            Electronics       WearableTechnology   \n",
       "380         13937            Electronics       WearableTechnology   \n",
       "695          4426  Computers&Accessories  Accessories&Peripherals   \n",
       "\n",
       "         type_product        date  \\\n",
       "334      SmartWatches  2023-02-04   \n",
       "364      SmartWatches  2023-02-07   \n",
       "368      SmartWatches  2023-02-07   \n",
       "372      SmartWatches  2023-02-08   \n",
       "380      SmartWatches  2023-02-09   \n",
       "695  USBtoUSBAdapters  2023-03-13   \n",
       "\n",
       "                                          review_title  \\\n",
       "334  Worth the money,Good smart watch,the screen do...   \n",
       "364  Worth the money,Good smart watch,the screen do...   \n",
       "368  Worth the money,Good smart watch,the screen do...   \n",
       "372  Worth the money,Good smart watch,the screen do...   \n",
       "380  Worth the money,Good smart watch,the screen do...   \n",
       "695  Tiny helping hand,Good product,As a whole good...   \n",
       "\n",
       "                                        review_content  \\\n",
       "334  I liked it, worth the money, light weight and ...   \n",
       "364  I liked it, worth the money, light weight and ...   \n",
       "368  I liked it, worth the money, light weight and ...   \n",
       "372  I liked it, worth the money, light weight and ...   \n",
       "380  I liked it, worth the money, light weight and ...   \n",
       "695  This eliminates the need to buy chargers for t...   \n",
       "\n",
       "                                               user_id  sentiment  sentiment2  \\\n",
       "334  AEC6UDCEAUIBIFHGQDQ4KR67GC4A,AHRKSUOZXKKDERRY3...     0.8442      0.9952   \n",
       "364  AEC6UDCEAUIBIFHGQDQ4KR67GC4A,AHRKSUOZXKKDERRY3...     0.8442      0.9952   \n",
       "368  AEC6UDCEAUIBIFHGQDQ4KR67GC4A,AHRKSUOZXKKDERRY3...     0.8442      0.9952   \n",
       "372  AEC6UDCEAUIBIFHGQDQ4KR67GC4A,AHRKSUOZXKKDERRY3...     0.8442      0.9952   \n",
       "380  AEC6UDCEAUIBIFHGQDQ4KR67GC4A,AHRKSUOZXKKDERRY3...     0.8442      0.9952   \n",
       "695  AGO5SRT3ESLNL5WTRQFD5BSIYPQA,AGGNODUMRADB3PQQT...     0.7845      0.1416   \n",
       "\n",
       "    Sentiment_label sentiment_label sentiment_label2  \n",
       "334        Positive        Positive         Positive  \n",
       "364        Positive        Positive         Positive  \n",
       "368        Positive        Positive         Positive  \n",
       "372        Positive        Positive         Positive  \n",
       "380        Positive        Positive         Positive  \n",
       "695        Positive        Positive         Positive  "
      ]
     },
     "execution_count": 377,
     "metadata": {},
     "output_type": "execute_result"
    }
   ],
   "source": [
    "df[(df['discount_percentage']>90)]"
   ]
  },
  {
   "cell_type": "code",
   "execution_count": null,
   "id": "7b75c7d7-0c87-4ee8-afcb-fe86babae567",
   "metadata": {},
   "outputs": [],
   "source": []
  }
 ],
 "metadata": {
  "kernelspec": {
   "display_name": "Python 3 (ipykernel)",
   "language": "python",
   "name": "python3"
  },
  "language_info": {
   "codemirror_mode": {
    "name": "ipython",
    "version": 3
   },
   "file_extension": ".py",
   "mimetype": "text/x-python",
   "name": "python",
   "nbconvert_exporter": "python",
   "pygments_lexer": "ipython3",
   "version": "3.11.4"
  }
 },
 "nbformat": 4,
 "nbformat_minor": 5
}
